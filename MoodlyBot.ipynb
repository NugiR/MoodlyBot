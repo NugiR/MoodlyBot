{
  "nbformat": 4,
  "nbformat_minor": 0,
  "metadata": {
    "colab": {
      "provenance": []
    },
    "kernelspec": {
      "name": "python3",
      "display_name": "Python 3"
    },
    "language_info": {
      "name": "python"
    }
  },
  "cells": [
    {
      "cell_type": "markdown",
      "source": [
        "# **1. Install library yang dibutuhkan**"
      ],
      "metadata": {
        "id": "FC5wsrw2w-f6"
      }
    },
    {
      "cell_type": "code",
      "execution_count": null,
      "metadata": {
        "id": "JZdanpintGA0"
      },
      "outputs": [],
      "source": [
        "!pip install langchain_community\n",
        "!pip install replicate"
      ]
    },
    {
      "cell_type": "markdown",
      "source": [
        "# **2. Import & Setup Token API dari Replicate**"
      ],
      "metadata": {
        "id": "OMUfv0VGxC9r"
      }
    },
    {
      "cell_type": "code",
      "source": [
        "import os\n",
        "from google.colab import userdata\n",
        "import replicate\n",
        "import re\n",
        "\n",
        "api_token = userdata.get(\"api_token\")\n",
        "\n",
        "# Put token to env variable\n",
        "os.environ[\"REPLICATE_API_TOKEN\"] = api_token"
      ],
      "metadata": {
        "id": "_aKdzGf77BIi"
      },
      "execution_count": 42,
      "outputs": []
    },
    {
      "cell_type": "markdown",
      "source": [
        "# **3. Respons empatik berdasarkan emosi**"
      ],
      "metadata": {
        "id": "DfszvsK9xKSg"
      }
    },
    {
      "cell_type": "code",
      "source": [
        "response_dict = {\n",
        "    \"Anger\": \"Kemarahan itu wajar, kamu ingin cerita lebih lanjut tentang apa yang membuatmu kesal?\",\n",
        "    \"Sadness\": \"Sedih memang berat. Aku di sini mendengarkan, kamu tidak sendiri.\",\n",
        "    \"Joy\": \"Senangnya dengar kamu merasa bahagia! Ada hal spesial terjadi hari ini?\",\n",
        "    \"Fear\": \"Rasa takut kadang datang tiba-tiba. Ceritakan, aku di sini untuk bantu.\",\n",
        "    \"Disgust\": \"Aku paham perasaan jijik atau muak itu menyakitkan. Ada yang ingin kamu lepaskan?\",\n",
        "    \"Surprise\": \"Wah! Sepertinya ada hal mengejutkan terjadi. Boleh cerita lebih lanjut?\"\n",
        "}"
      ],
      "metadata": {
        "id": "N7RLMm0ELEUS"
      },
      "execution_count": 50,
      "outputs": []
    },
    {
      "cell_type": "markdown",
      "source": [
        "# **4. Fungsi deteksi emosi dengan prompt & parsing**"
      ],
      "metadata": {
        "id": "jsgt-AiAxPCi"
      }
    },
    {
      "cell_type": "code",
      "source": [
        "def detect_emotion(user_text):\n",
        "    prompt = f\"\"\"Dari teks berikut, tentukan satu emosi utama: Anger, Sadness, Joy, Fear, Disgust, atau Surprise.\n",
        "Jawab hanya nama emosinya. misal: Anger\n",
        "\n",
        "Teks: \"{user_text}\"\n",
        "Emosi:\"\"\"\n",
        "\n",
        "    result = replicate.run(\n",
        "        \"ibm-granite/granite-3.3-8b-instruct\",\n",
        "        input={\"prompt\": prompt}\n",
        "    )\n",
        "\n",
        "    response_text = \"\".join(result).strip().lower()\n",
        "\n",
        "    # Ekstrak emosi dari response\n",
        "    for emo in [\"anger\", \"sadness\", \"joy\", \"fear\", \"disgust\", \"surprise\"]:\n",
        "        if emo in response_text:\n",
        "            return emo.capitalize()\n",
        "\n",
        "    # Jika tidak ditemukan, fallback ke Joy\n",
        "    return \"Joy\""
      ],
      "metadata": {
        "id": "pdmV-AqzK0HQ"
      },
      "execution_count": 51,
      "outputs": []
    },
    {
      "cell_type": "markdown",
      "source": [
        "# **5. Fungsi chatbot interaktif**"
      ],
      "metadata": {
        "id": "oLUKC-yPxfEF"
      }
    },
    {
      "cell_type": "code",
      "source": [
        "conversation_history = []\n",
        "\n",
        "def chatbot():\n",
        "    print(\"🧠 Chatbot Konseling Emosi - IBM Granite\")\n",
        "    print(\"Ketik 'stop' untuk keluar.\\n\")\n",
        "\n",
        "    while True:\n",
        "        user = input(\"👤 Kamu: \")\n",
        "        if user.lower() in [\"stop\", \"quit\", \"exit\"]:\n",
        "            print(\"🤖 Bot: Terima kasih sudah berbagi. Semoga harimu membaik 🙏\")\n",
        "            break\n",
        "\n",
        "        emotion = detect_emotion(user)\n",
        "        response = response_dict.get(emotion, \"Terima kasih sudah berbagi. Aku di sini untuk mendengarkan.\")\n",
        "        conversation_history.append((user, emotion, response))\n",
        "\n",
        "        print(f\"🧠 Deteksi Emosi: {emotion}\")\n",
        "        print(f\"🤖 Bot: {response}\\n\")"
      ],
      "metadata": {
        "id": "zZ0yMxEmLNCB"
      },
      "execution_count": 52,
      "outputs": []
    },
    {
      "cell_type": "markdown",
      "source": [
        "# **6. Jalankan chatbot**"
      ],
      "metadata": {
        "id": "Dmz-7KP8xjFC"
      }
    },
    {
      "cell_type": "code",
      "source": [
        "chatbot()"
      ],
      "metadata": {
        "colab": {
          "base_uri": "https://localhost:8080/"
        },
        "id": "97rZXVQTLQNZ",
        "outputId": "f2cf3041-7dde-4e6d-d153-9fc191a1ed7e"
      },
      "execution_count": 49,
      "outputs": [
        {
          "output_type": "stream",
          "name": "stdout",
          "text": [
            "🧠 Chatbot Konseling Emosi - IBM Granite\n",
            "Ketik 'stop' untuk keluar.\n",
            "\n",
            "👤 Kamu: Asli emosi banget, udah capek masih aja disalahin terus\n",
            "🧠 Deteksi Emosi: Anger\n",
            "🤖 Bot: Kemarahan itu wajar, kamu ingin cerita lebih lanjut tentang apa yang membuatmu kesal?\n",
            "\n",
            "👤 Kamu: Gatau kenapa ya, akhir-akhir ini hati gue kosong banget\n",
            "🧠 Deteksi Emosi: Sadness\n",
            "🤖 Bot: Sedih memang berat. Aku di sini mendengarkan, kamu tidak sendiri.\n",
            "\n",
            "👤 Kamu: Gue seneng parah, akhirnya keterima juga magang di startup impian!\n",
            "🧠 Deteksi Emosi: Joy\n",
            "🤖 Bot: Senangnya dengar kamu merasa bahagia! Ada hal spesial terjadi hari ini?\n",
            "\n",
            "👤 Kamu: Jujur gue takut banget gagal, takut ngecewain orang tua\n",
            "🧠 Deteksi Emosi: Fear\n",
            "🤖 Bot: Rasa takut kadang datang tiba-tiba. Ceritakan, aku di sini untuk bantu.\n",
            "\n",
            "👤 Kamu: Bikin mual liat cara dia ngomong di grup\n",
            "🧠 Deteksi Emosi: Disgust\n",
            "🤖 Bot: Aku paham perasaan jijik atau muak itu menyakitkan. Ada yang ingin kamu lepaskan?\n",
            "\n",
            "👤 Kamu: Anjir, gue kaget banget ternyata dia ngechat gue duluan!\n",
            "🧠 Deteksi Emosi: Surprise\n",
            "🤖 Bot: Wah! Sepertinya ada hal mengejutkan terjadi. Boleh cerita lebih lanjut?\n",
            "\n",
            "👤 Kamu: stop\n",
            "🤖 Bot: Terima kasih sudah berbagi. Semoga harimu membaik 🙏\n"
          ]
        }
      ]
    }
  ]
}